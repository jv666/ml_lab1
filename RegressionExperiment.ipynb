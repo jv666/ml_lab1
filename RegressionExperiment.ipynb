{
 "cells": [
  {
   "cell_type": "code",
   "execution_count": 14,
   "metadata": {
    "collapsed": true
   },
   "outputs": [],
   "source": [
    "from sklearn.datasets import load_svmlight_file\n",
    "import numpy as np\n",
    "import matplotlib.pyplot as plt\n",
    "from scipy.sparse import csr_matrix, hstack\n",
    "from sklearn.model_selection import train_test_split\n",
    "\n",
    "X,Y = load_svmlight_file(\"housing_scale.txt\")  \n",
    "X = X.todense()\n",
    "Y = np.array(Y).reshape(506,1)\n",
    "X_train, X_test, Y_train, Y_test = train_test_split(X, Y, test_size=0.33)\n",
    "#导入数据集并切分   其中X为参数值  Y为目标值"
   ]
  },
  {
   "cell_type": "code",
   "execution_count": 15,
   "metadata": {
    "collapsed": true,
    "scrolled": true
   },
   "outputs": [],
   "source": [
    "m,n=np.shape(X)\n",
    "theta = np.ones((n,1))\n",
    "learning_rate = 0.00005\n",
    "maxIteration = 1000"
   ]
  },
  {
   "cell_type": "code",
   "execution_count": 16,
   "metadata": {
    "collapsed": true
   },
   "outputs": [],
   "source": [
    "def cal_loss(a, b, theta):\n",
    "    return(1/2 *(np.linalg.norm(a*theta-b))**2)/(a.shape[0])"
   ]
  },
  {
   "cell_type": "code",
   "execution_count": 17,
   "metadata": {},
   "outputs": [
    {
     "data": {
      "text/plain": [
       "(12.110076800092045, 13.302588335808233)"
      ]
     },
     "execution_count": 17,
     "metadata": {},
     "output_type": "execute_result"
    }
   ],
   "source": [
    "train_loss = []\n",
    "test_loss= []\n",
    "\n",
    "for i in range(0, maxIteration):\n",
    "    gradient = 2 * X_train.T * (X_train * theta - Y_train)\n",
    "    #print(gradient)\n",
    "    theta = theta - learning_rate * gradient\n",
    "    #print(theta)\n",
    "    train_loss.append(cal_loss(X_train, Y_train, theta))\n",
    "    test_loss.append(cal_loss(X_test, Y_test, theta))\n",
    "    \n",
    "train_loss[999],test_loss[999]"
   ]
  },
  {
   "cell_type": "code",
   "execution_count": 18,
   "metadata": {},
   "outputs": [
    {
     "data": {
      "text/plain": [
       "<matplotlib.legend.Legend at 0x1b5efc7f8d0>"
      ]
     },
     "execution_count": 18,
     "metadata": {},
     "output_type": "execute_result"
    },
    {
     "data": {
      "image/png": "[encoded data removed]",
      "text/plain": [
       "<matplotlib.figure.Figure at 0x1b5eebd1438>"
      ]
     },
     "metadata": {},
     "output_type": "display_data"
    }
   ],
   "source": [
    "%matplotlib inline\n",
    "plt.xlabel(\"Iteration\")\n",
    "plt.ylabel(\"loss\")\n",
    "\n",
    "plt.plot(train_loss[5:], label=\"train_loss\")\n",
    "plt.plot(test_loss[5:],label=\"test_loss\" )\n",
    "plt.legend(loc='best')"
   ]
  }
 ],
 "metadata": {
  "kernelspec": {
   "display_name": "Python 3",
   "language": "python",
   "name": "python3"
  },
  "language_info": {
   "codemirror_mode": {
    "name": "ipython",
    "version": 3
   },
   "file_extension": ".py",
   "mimetype": "text/x-python",
   "name": "python",
   "nbconvert_exporter": "python",
   "pygments_lexer": "ipython3",
   "version": "3.6.3"
  }
 },
 "nbformat": 4,
 "nbformat_minor": 2
}
